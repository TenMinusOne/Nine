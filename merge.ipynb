{
 "cells": [
  {
   "attachments": {},
   "cell_type": "markdown",
   "metadata": {},
   "source": [
    "# 102Flowers Image Classifier\n",
    "\n",
    "This is the main notebook for the project. See the associated report (WIP) for more information."
   ]
  },
  {
   "attachments": {},
   "cell_type": "markdown",
   "metadata": {},
   "source": [
    "### Imports"
   ]
  },
  {
   "cell_type": "code",
   "execution_count": null,
   "metadata": {},
   "outputs": [],
   "source": [
    "import torch\n",
    "from torch import nn\n",
    "from torch import optim\n",
    "from torch.utils.data import DataLoader\n",
    "import torch.nn.functional as F\n",
    "from torchvision import datasets, transforms, models\n",
    "\n",
    "import numpy as np\n",
    "import pandas as pd\n",
    "import matplotlib.pyplot as plt\n",
    "import scipy\n",
    "\n",
    "from IPython.display import clear_output"
   ]
  },
  {
   "attachments": {},
   "cell_type": "markdown",
   "metadata": {},
   "source": [
    "### Hyperparameters"
   ]
  },
  {
   "cell_type": "code",
   "execution_count": null,
   "metadata": {},
   "outputs": [],
   "source": [
    "# TODO: Set hyperparameters.\n",
    "DEFAULT_BATCH_SIZE = 5\n",
    "TRAINING_BATCH_SIZE = DEFAULT_BATCH_SIZE\n",
    "VALIDATION_BATCH_SIZE = DEFAULT_BATCH_SIZE\n",
    "TESTING_BATCH_SIZE = DEFAULT_BATCH_SIZE\n",
    "TESTING_BATCH_COUNT = 10\n",
    "EPOCHS = 100\n",
    "LEARNING_RATE = 0.001\n",
    "IMAGE_CROP_SIZE = 128"
   ]
  },
  {
   "attachments": {},
   "cell_type": "markdown",
   "metadata": {},
   "source": [
    "### Device"
   ]
  },
  {
   "cell_type": "code",
   "execution_count": null,
   "metadata": {},
   "outputs": [],
   "source": [
    "# Default to CPU\n",
    "DEVICE = torch.device(\"cpu\")\n",
    "\n",
    "# Switch to GPU if available\n",
    "if torch.cuda.is_available():\n",
    "\tprint(f\"Found {torch.cuda.device_count()} GPUs. Using cuda:0.\")\n",
    "\t#DEVICE = torch.device(\"cuda:0\")\n",
    "else:\n",
    "\tprint(\"No GPUs found, using CPU.\")"
   ]
  },
  {
   "attachments": {},
   "cell_type": "markdown",
   "metadata": {},
   "source": [
    "### Load Dataset"
   ]
  },
  {
   "cell_type": "code",
   "execution_count": null,
   "metadata": {},
   "outputs": [],
   "source": [
    "training_data = datasets.Flowers102(\n",
    "    root = \"data\",\n",
    "    split = \"train\",\n",
    "    transform=transforms.Compose([\n",
    "        transforms.Resize(IMAGE_CROP_SIZE),\n",
    "        transforms.CenterCrop(IMAGE_CROP_SIZE),\n",
    "        transforms.ToTensor()\n",
    "    ]),\n",
    "    download=True\n",
    ")\n",
    "\n",
    "validation_data = datasets.Flowers102(\n",
    "    root = \"data\",\n",
    "    split = \"val\",\n",
    "    transform=transforms.Compose([\n",
    "        transforms.Resize(IMAGE_CROP_SIZE),\n",
    "        transforms.CenterCrop(IMAGE_CROP_SIZE),\n",
    "        transforms.ToTensor()\n",
    "    ]),\n",
    "    download=True\n",
    ")\n",
    "\n",
    "testing_data = datasets.Flowers102(\n",
    "    root = \"data\",\n",
    "    split = \"test\",\n",
    "    transform=transforms.Compose([\n",
    "        transforms.Resize(IMAGE_CROP_SIZE),\n",
    "        transforms.CenterCrop(IMAGE_CROP_SIZE),\n",
    "        transforms.ToTensor()\n",
    "    ]),\n",
    "    download=True\n",
    ")"
   ]
  },
  {
   "attachments": {},
   "cell_type": "markdown",
   "metadata": {},
   "source": [
    "### DataLoaders"
   ]
  },
  {
   "cell_type": "code",
   "execution_count": null,
   "metadata": {},
   "outputs": [],
   "source": [
    "training_dataloader = DataLoader(training_data, batch_size=TRAINING_BATCH_SIZE, shuffle=True)\n",
    "validation_dataloader = DataLoader(validation_data, batch_size=VALIDATION_BATCH_SIZE, shuffle=True)\n",
    "testing_dataloader = DataLoader(testing_data, batch_size=TESTING_BATCH_SIZE, shuffle=True)"
   ]
  },
  {
   "attachments": {},
   "cell_type": "markdown",
   "metadata": {},
   "source": [
    "## Model"
   ]
  },
  {
   "cell_type": "code",
   "execution_count": null,
   "metadata": {},
   "outputs": [],
   "source": [
    "#classifications = F.one_hot(torch.tensor([e for e in range(0,102)]), num_classes=102)"
   ]
  },
  {
   "cell_type": "code",
   "execution_count": null,
   "metadata": {},
   "outputs": [],
   "source": [
    "class F102Classifier(nn.Module):\n",
    "    \n",
    "\tdef __init__(self):\n",
    "\t\tsuper(F102Classifier, self).__init__()\n",
    "\t\t\n",
    "\t\tself.pool = nn.MaxPool2d(2, 2)\n",
    "\t\tself.conv1 = nn.Conv2d(3, 6, 3)\n",
    "\t\tself.conv2 = nn.Conv2d(6, 12, 3)\n",
    "\t\tself.conv3 = nn.Conv2d(12, 24, 3)\n",
    "\t\tself.conv4 = nn.Conv2d(24, 48, 3)\n",
    "\t\tself.conv5 = nn.Conv2d(48, 96, 3)\n",
    "\t\tself.fc1 = nn.Linear(384, 1024)\n",
    "\t\tself.fc2 = nn.Linear(1024, 512)\n",
    "\t\tself.fc3 = nn.Linear(512, 102)\n",
    "\n",
    "\tdef forward(self, x):\n",
    "\n",
    "\t\tx = self.pool(F.relu(self.conv1(x)))\n",
    "\t\tx = self.pool(F.relu(self.conv2(x)))\n",
    "\t\tx = self.pool(F.relu(self.conv3(x)))\n",
    "\t\tx = self.pool(F.relu(self.conv4(x)))\n",
    "\t\tx = self.pool(F.relu(self.conv5(x)))\n",
    "\t\tx = torch.flatten(x)\n",
    "\t\tx = x.view(TRAINING_BATCH_SIZE, -1)\n",
    "\t\tx = F.relu(self.fc1(x))\n",
    "\t\tx = F.relu(self.fc2(x))\n",
    "\t\tx = self.fc3(x)\n",
    "\t\t#print(x.size())\n",
    "\t\treturn x\n",
    "\n",
    "net = F102Classifier()\n",
    "net = net.to(DEVICE)"
   ]
  },
  {
   "attachments": {},
   "cell_type": "markdown",
   "metadata": {},
   "source": [
    "### Loss Function & Optimiser"
   ]
  },
  {
   "cell_type": "code",
   "execution_count": null,
   "metadata": {},
   "outputs": [],
   "source": [
    "loss_function = nn.CrossEntropyLoss()\n",
    "optimiser = optim.Adam(net.parameters(), lr=LEARNING_RATE)"
   ]
  },
  {
   "attachments": {},
   "cell_type": "markdown",
   "metadata": {},
   "source": [
    "## Validation, Testing, Training Functions"
   ]
  },
  {
   "attachments": {},
   "cell_type": "markdown",
   "metadata": {},
   "source": [
    "### Validation, Testing Functions"
   ]
  },
  {
   "cell_type": "code",
   "execution_count": null,
   "metadata": {},
   "outputs": [],
   "source": [
    "def validate(model:F102Classifier=net, dataloader:DataLoader=validation_dataloader, loss_fn=loss_function, batches=1):\n",
    "    model.eval()\n",
    "    test_loss, correct = 0, 0\n",
    "    for batch, (inputs, labels) in enumerate(dataloader):\n",
    "        if batch == batches:\n",
    "            break\n",
    "        inputs, labels = inputs.to(DEVICE), labels.to(DEVICE)\n",
    "        output = model(inputs)\n",
    "        test_loss += loss_fn(output, labels).item()\n",
    "        pred = output.argmax(dim=1, keepdim=True)\n",
    "        correct += pred.eq(labels.view_as(pred)).sum().item()\n",
    "    test_loss /= batches\n",
    "    correct /= batches\n",
    "    print(f\"Test Accuracy: {correct*100:.1f}%\\nAverage Loss for Test: {test_loss:.3f}\")\n",
    "    return test_loss, correct\n",
    "\n",
    "def test(model:F102Classifier=net, dataloader:DataLoader=testing_dataloader, loss_fn=loss_function, batches=1):\n",
    "    return validate(dataloader=dataloader, batches=TESTING_BATCH_COUNT)"
   ]
  },
  {
   "attachments": {},
   "cell_type": "markdown",
   "metadata": {},
   "source": [
    "### Training Function"
   ]
  },
  {
   "cell_type": "code",
   "execution_count": null,
   "metadata": {},
   "outputs": [],
   "source": [
    "def train(model:F102Classifier=net, dataloader:DataLoader=training_dataloader, loss_fn=loss_function, optimiser=optimiser, epochs:int=EPOCHS, test_every:int=1):\n",
    "\tprint(\"Started Training\")\n",
    "\tmodel.train()\n",
    "\tepoch_loss = 0\n",
    "\tloss_record = list([0])\n",
    "\taccuracy_record = list([(0,0)])\n",
    "\tfor i in range(0, epochs):\n",
    "\t\tfor batch, (inputs, labels) in enumerate(dataloader):\n",
    "\t\t\tinputs, labels = inputs.to(DEVICE), labels.to(DEVICE)\n",
    "\n",
    "\t\t\toutputs = model(inputs)\n",
    "\t\t\toutputs = torch.tensor([torch.argmax(o)+1 for o in outputs]).to(DEVICE)\n",
    "\t\t\t\n",
    "\t\t\t# LOSS\n",
    "\t\t\tloss = loss_fn(outputs, labels)\n",
    "\t\t\tepoch_loss += loss.item()\n",
    "\n",
    "\t\t\t# BACKPROP\n",
    "\t\t\toptimiser.zero_grad()\n",
    "\t\t\tloss.backward()\n",
    "\t\t\toptimiser.step()\n",
    "\t\t\t#print(batch)\n",
    "\t\t\t#print(loss_record)\n",
    "\t\t\t#print(accuracy_record)\n",
    "\n",
    "\t\t\tif (batch % len(dataloader) == 0):\n",
    "\t\t\t\tclear_output(wait=True)\n",
    "\n",
    "\t\t\t\tif (i % test_every == 0):\n",
    "\t\t\t\t\t_, accuracy = validate()\n",
    "\t\t\t\t\taccuracy_record.append((i+1,accuracy*100))\n",
    "\n",
    "\t\t\t\tepoch_loss = epoch_loss/len(dataloader)\n",
    "\t\t\t\tloss_record.append(epoch_loss)\n",
    "\t\t\t\tstatus = f\"Epoch: {i+1}/{epochs}\\nBatch: {batch+1}/{len(dataloader)}\\nMean Loss for Epoch: {epoch_loss:.4f}\"\n",
    "\t\t\t\tprint(status)\n",
    "\n",
    "\t\t\t\tplt.plot(loss_record)\n",
    "\t\t\t\tplt.xlabel('Mean Loss for Epoch')\n",
    "\t\t\t\tplt.ylabel('Loss')\n",
    "\t\t\t\tplt.text(0, 1, status, ha='left', va='top', transform=plt.gca().transAxes)\n",
    "\t\t\t\tplt.gca().xaxis.set_major_locator(plt.MaxNLocator(integer=True))\n",
    "\t\t\t\tplt.gca().set_xlim(left=1)\n",
    "\t\t\t\tplt.gca().set_ylim(bottom=0)\n",
    "\t\t\t\tplt.gca().set_ylim(top=max(loss_record)*1.1)\n",
    "\t\t\t\t# add secondary y axis for accuracy\n",
    "\t\t\t\tplt.twinx()\n",
    "\t\t\t\tplt.plot([e[0] for e in accuracy_record], [a[1] for a in accuracy_record], color='orange')\n",
    "\t\t\t\tplt.ylabel('Accuracy (%)')\n",
    "\t\t\t\tplt.gca().set_ylim(bottom=0)\n",
    "\t\t\t\tplt.gca().set_ylim(top=100)\n",
    "\t\t\t\tplt.gca().set_xlim(left=1)\n",
    "\t\t\t\t#plt.gca().set_xlim(right=len(loss_record)-1)\n",
    "\t\t\t\tplt.gca().xaxis.set_major_locator(plt.MaxNLocator(integer=True))\n",
    "\t\t\t\tplt.show()\n",
    "\n",
    "\tprint(\"Finished Training\")\n",
    "\treturn loss_record, accuracy_record\n"
   ]
  },
  {
   "attachments": {},
   "cell_type": "markdown",
   "metadata": {},
   "source": [
    "# Run Model"
   ]
  },
  {
   "cell_type": "code",
   "execution_count": null,
   "metadata": {},
   "outputs": [],
   "source": [
    "train()"
   ]
  },
  {
   "cell_type": "code",
   "execution_count": null,
   "metadata": {},
   "outputs": [],
   "source": [
    "### ARGMAX TESTING ###\n",
    "a = torch.randn(32,102)\n",
    "#type(a)\n",
    "a = torch.tensor([torch.argmax(e) + 1 for e in a])\n",
    "a"
   ]
  },
  {
   "cell_type": "code",
   "execution_count": null,
   "metadata": {},
   "outputs": [],
   "source": [
    "### PLOT TESTING ###\n",
    "loss_record = [61,42,9,1,2,3,4,3,2,1,2,3,4,1,2,3,4,5]\n",
    "accuracy_record = [(3, 30), (4, 40), (6, 40), (8, 20), (9, 100), (18,50)]\n",
    "status = \"bababooey\"\n",
    "plt.plot(loss_record)\n",
    "plt.xlabel('Epoch')\n",
    "plt.ylabel('Mean Loss for Epoch')\n",
    "plt.text(0, 1, status, ha='left', va='top', transform=plt.gca().transAxes)\n",
    "plt.gca().xaxis.set_major_locator(plt.MaxNLocator(integer=True))\n",
    "plt.gca().set_xlim(left=0)\n",
    "plt.gca().set_ylim(bottom=0)\n",
    "plt.gca().set_ylim(top=max(loss_record)*1.1)\n",
    "# add secondary y axis for accuracy\n",
    "plt.twinx()\n",
    "plt.plot([e[0] for e in accuracy_record], [a[1] for a in accuracy_record], color='orange')\n",
    "plt.ylabel('Accuracy (%)')\n",
    "plt.gca().set_ylim(bottom=0)\n",
    "plt.gca().set_ylim(top=100)\n",
    "plt.gca().set_xlim(left=0)\n",
    "#plt.gca().set_xlim(right=len(loss_record)-1)\n",
    "plt.gca().xaxis.set_major_locator(plt.MaxNLocator(integer=True))\n",
    "plt.show()"
   ]
  },
  {
   "attachments": {},
   "cell_type": "markdown",
   "metadata": {},
   "source": [
    "### Save Model"
   ]
  },
  {
   "cell_type": "code",
   "execution_count": null,
   "metadata": {},
   "outputs": [],
   "source": [
    "save_path = \"./models/classifier.pth\"\n",
    "torch.save(net.state_dict(), save_path)"
   ]
  }
 ],
 "metadata": {
  "kernelspec": {
   "display_name": ".venv",
   "language": "python",
   "name": "python3"
  },
  "language_info": {
   "codemirror_mode": {
    "name": "ipython",
    "version": 3
   },
   "file_extension": ".py",
   "mimetype": "text/x-python",
   "name": "python",
   "nbconvert_exporter": "python",
   "pygments_lexer": "ipython3",
   "version": "3.11.3"
  },
  "orig_nbformat": 4
 },
 "nbformat": 4,
 "nbformat_minor": 2
}
