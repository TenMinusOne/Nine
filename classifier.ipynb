{
 "cells": [
  {
   "attachments": {},
   "cell_type": "markdown",
   "metadata": {},
   "source": [
    "# 102Flowers Image Classifier\n",
    "\n",
    "This is the main notebook for the project. See the associated report (WIP) for more information."
   ]
  },
  {
   "attachments": {},
   "cell_type": "markdown",
   "metadata": {},
   "source": [
    "### Imports"
   ]
  },
  {
   "cell_type": "code",
   "execution_count": null,
   "metadata": {},
   "outputs": [],
   "source": [
    "import torch\n",
    "from torch import nn\n",
    "from torch import optim\n",
    "from torch.utils.data import DataLoader\n",
    "import torch.nn.functional as F\n",
    "from torchvision import datasets, transforms, models\n",
    "\n",
    "import numpy as np\n",
    "import pandas as pd\n",
    "import matplotlib.pyplot as plt\n",
    "import scipy\n",
    "\n",
    "from IPython.display import clear_output"
   ]
  },
  {
   "attachments": {},
   "cell_type": "markdown",
   "metadata": {},
   "source": [
    "### Hyperparameters"
   ]
  },
  {
   "cell_type": "code",
   "execution_count": null,
   "metadata": {},
   "outputs": [],
   "source": [
    "# TODO: Set hyperparameters.\n",
    "DEFAULT_BATCH_SIZE = 5\n",
    "training_batch_size = DEFAULT_BATCH_SIZE\n",
    "validation_batch_size = DEFAULT_BATCH_SIZE\n",
    "test_batch_size = DEFAULT_BATCH_SIZE\n",
    "epochs = 100\n",
    "learning_rate = 0.01\n",
    "momentum = 0.9\n",
    "crop_size = 128"
   ]
  },
  {
   "attachments": {},
   "cell_type": "markdown",
   "metadata": {},
   "source": [
    "### Device"
   ]
  },
  {
   "cell_type": "code",
   "execution_count": null,
   "metadata": {},
   "outputs": [],
   "source": [
    "# Default to CPU\n",
    "device = torch.device(\"cpu\")\n",
    "\n",
    "# Switch to GPU if available\n",
    "if torch.cuda.is_available():\n",
    "\tprint(f\"Found {torch.cuda.device_count()} GPUs. Using cuda:0.\")\n",
    "\tdevice = torch.device(\"cuda:0\")\n",
    "else:\n",
    "\tprint(\"No GPUs found, using CPU.\")"
   ]
  },
  {
   "attachments": {},
   "cell_type": "markdown",
   "metadata": {},
   "source": [
    "### Load Dataset"
   ]
  },
  {
   "cell_type": "code",
   "execution_count": null,
   "metadata": {},
   "outputs": [],
   "source": [
    "training_data = datasets.Flowers102(\n",
    "    root = \"data\",\n",
    "    split = \"train\",\n",
    "    transform=transforms.Compose([\n",
    "        transforms.Resize(crop_size),\n",
    "        transforms.CenterCrop(crop_size),\n",
    "        transforms.ToTensor()\n",
    "    ]),\n",
    "    download=True\n",
    ")\n",
    "\n",
    "validation_data = datasets.Flowers102(\n",
    "    root = \"data\",\n",
    "    split = \"val\",\n",
    "    transform=transforms.Compose([\n",
    "        transforms.Resize(crop_size),\n",
    "        transforms.CenterCrop(crop_size),\n",
    "        transforms.ToTensor()\n",
    "    ]),\n",
    "    download=True\n",
    ")\n",
    "\n",
    "testing_data = datasets.Flowers102(\n",
    "    root = \"data\",\n",
    "    split = \"test\",\n",
    "    transform=transforms.Compose([\n",
    "        transforms.Resize(crop_size),\n",
    "        transforms.CenterCrop(crop_size),\n",
    "        transforms.ToTensor()\n",
    "    ]),\n",
    "    download=True\n",
    ")"
   ]
  },
  {
   "attachments": {},
   "cell_type": "markdown",
   "metadata": {},
   "source": [
    "### DataLoaders"
   ]
  },
  {
   "cell_type": "code",
   "execution_count": null,
   "metadata": {},
   "outputs": [],
   "source": [
    "train_dataloader = DataLoader(training_data, batch_size=training_batch_size, shuffle=True)\n",
    "validation_dataloader = DataLoader(validation_data, batch_size=validation_batch_size, shuffle=True)\n",
    "test_dataloader = DataLoader(testing_data, batch_size=test_batch_size, shuffle=True)"
   ]
  },
  {
   "attachments": {},
   "cell_type": "markdown",
   "metadata": {},
   "source": [
    "## Model"
   ]
  },
  {
   "cell_type": "code",
   "execution_count": null,
   "metadata": {},
   "outputs": [],
   "source": [
    "classifications = F.one_hot(torch.tensor([e for e in range(0,102)]), num_classes=102)\n",
    "classifications, classifications.size()"
   ]
  },
  {
   "cell_type": "code",
   "execution_count": null,
   "metadata": {},
   "outputs": [],
   "source": [
    "class F102Classifier(nn.Module):\n",
    "    \n",
    "\tdef __init__(self):\n",
    "\t\tsuper(F102Classifier, self).__init__()\n",
    "\t\t\n",
    "\t\tself.pool = nn.MaxPool2d(2, 2)\n",
    "\t\tself.conv1 = nn.Conv2d(3, 6, 3)\n",
    "\t\tself.conv2 = nn.Conv2d(6, 12, 3)\n",
    "\t\tself.conv3 = nn.Conv2d(12, 24, 3)\n",
    "\t\tself.conv4 = nn.Conv2d(24, 48, 3)\n",
    "\t\tself.conv5 = nn.Conv2d(48, 96, 3)\n",
    "\t\tself.fc1 = nn.Linear(384, 1024)\n",
    "\t\tself.fc2 = nn.Linear(1024, 512)\n",
    "\t\tself.fc3 = nn.Linear(512, 102)\n",
    "\t\t\n",
    "\n",
    "\tdef forward(self, x):\n",
    "\n",
    "\t\tx = self.pool(F.relu(self.conv1(x)))\n",
    "\t\tx = self.pool(F.relu(self.conv2(x)))\n",
    "\t\tx = self.pool(F.relu(self.conv3(x)))\n",
    "\t\tx = self.pool(F.relu(self.conv4(x)))\n",
    "\t\tx = self.pool(F.relu(self.conv5(x)))\n",
    "\t\t#print(\"after conv5: \", x.size())\n",
    "\t\tx = torch.flatten(x)\n",
    "\t\t#print(\"after flatten: \", x.size())\n",
    "\t\tx = x.view(training_batch_size, -1)\n",
    "\t\t#print(\"after view: \", x.size())\n",
    "\t\tx = F.relu(self.fc1(x))\n",
    "\t\t#print(\"after fc1: \", x.size())\n",
    "\t\tx = F.relu(self.fc2(x))\n",
    "\t\t#print(\"after fc2: \", x.size())\n",
    "\t\tx = self.fc3(x)\n",
    "\t\t#print(\"after fc3: \", x.size())\n",
    "\t\t#print(x)\n",
    "\t\t#print(x.size())\n",
    "\t\treturn x\n",
    "\n",
    "net = F102Classifier()\n",
    "net = net.to(device)"
   ]
  },
  {
   "attachments": {},
   "cell_type": "markdown",
   "metadata": {},
   "source": [
    "### Loss Function & Optimiser"
   ]
  },
  {
   "cell_type": "code",
   "execution_count": null,
   "metadata": {},
   "outputs": [],
   "source": [
    "loss_function = nn.CrossEntropyLoss()\n",
    "optimiser = optim.Adam(net.parameters(), lr=learning_rate)"
   ]
  },
  {
   "attachments": {},
   "cell_type": "markdown",
   "metadata": {},
   "source": [
    "## Train"
   ]
  },
  {
   "cell_type": "code",
   "execution_count": null,
   "metadata": {},
   "outputs": [],
   "source": [
    "loss_record = []\n",
    "\n",
    "for epoch in range(epochs):\n",
    "    \n",
    "\trunning_loss = 0\n",
    "\n",
    "\tfor i, data in enumerate(train_dataloader, 0):\n",
    "\t\tinputs, labels = data\n",
    "\t\tinputs, labels = inputs.to(device), labels.to(device)\n",
    "\n",
    "\t\toptimiser.zero_grad()\n",
    "\n",
    "\t\toutputs = net(inputs)\n",
    "\t\t#print(outputs.size())\n",
    "\t\tloss = loss_function(outputs, labels)\n",
    "\t\tloss.backward()\n",
    "\t\toptimiser.step()\n",
    "\n",
    "\t\trunning_loss += loss.item() / training_batch_size\n",
    "\t\t#print(loss.item())\n",
    "\t\tif i % (1020/training_batch_size) == (1020/training_batch_size) - 1:\n",
    "\t\t\tloss_record.append(running_loss / training_batch_size)\n",
    "\t\t\tstatus = f'[{epoch + 1}, {i + 1:5d}] loss: {running_loss / training_batch_size:.10f}'\n",
    "\t\t\trunning_loss = 0.0\n",
    "\t\t\tclear_output(wait=True)\n",
    "\n",
    "\tplt.plot(loss_record)\n",
    "\tplt.xlabel('Epoch')\n",
    "\tplt.ylabel('Loss')\n",
    "\tplt.text(0, 1, status, ha='left', va='top', transform=plt.gca().transAxes)\n",
    "\t# display all axes in integers\n",
    "\tplt.gca().xaxis.set_major_locator(plt.MaxNLocator(integer=True))\n",
    "\t#plt.gca().yaxis.set_major_locator(plt.MaxNLocator(integer=True))\n",
    "\t# display full numbers on axes\n",
    "\t#plt.gca().get_xaxis().get_major_formatter().set_useOffset(False)\n",
    "\t#plt.gca().get_yaxis().get_major_formatter().set_useOffset(False)\n",
    "\t# begin boths axes at 0\n",
    "\tplt.gca().set_xlim(left=0)\n",
    "\tplt.gca().set_ylim(bottom=0)\n",
    "\tplt.gca().set_ylim(top=max(loss_record)*1.1)\n",
    "\tplt.show()\n",
    "\tprint(loss_record)\n",
    "\n",
    "print('Finished Training')"
   ]
  },
  {
   "attachments": {},
   "cell_type": "markdown",
   "metadata": {},
   "source": [
    "### Save Model"
   ]
  },
  {
   "cell_type": "code",
   "execution_count": null,
   "metadata": {},
   "outputs": [],
   "source": [
    "save_path = \"./models/classifier.pth\"\n",
    "torch.save(net.state_dict(), save_path)"
   ]
  }
 ],
 "metadata": {
  "kernelspec": {
   "display_name": ".venv",
   "language": "python",
   "name": "python3"
  },
  "language_info": {
   "codemirror_mode": {
    "name": "ipython",
    "version": 3
   },
   "file_extension": ".py",
   "mimetype": "text/x-python",
   "name": "python",
   "nbconvert_exporter": "python",
   "pygments_lexer": "ipython3",
   "version": "3.11.3"
  },
  "orig_nbformat": 4
 },
 "nbformat": 4,
 "nbformat_minor": 2
}
