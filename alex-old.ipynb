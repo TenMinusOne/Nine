{
 "cells": [
  {
   "attachments": {},
   "cell_type": "markdown",
   "metadata": {},
   "source": [
    "# 102Flowers Image Classifier\n",
    "\n",
    "This is the main notebook for the project. See the associated report (WIP) for more information."
   ]
  },
  {
   "attachments": {},
   "cell_type": "markdown",
   "metadata": {},
   "source": [
    "### Imports"
   ]
  },
  {
   "cell_type": "code",
   "execution_count": null,
   "metadata": {},
   "outputs": [],
   "source": [
    "import torch\n",
    "from torch import nn\n",
    "from torch import optim\n",
    "from torch.utils.data import DataLoader\n",
    "import torch.nn.functional as F\n",
    "from torchvision import datasets, transforms, models\n",
    "\n",
    "import numpy as np\n",
    "import matplotlib.pyplot as plt\n",
    "import scipy\n",
    "\n",
    "from IPython.display import clear_output\n",
    "import os\n",
    "import json"
   ]
  },
  {
   "attachments": {},
   "cell_type": "markdown",
   "metadata": {},
   "source": [
    "### Hyperparameters"
   ]
  },
  {
   "cell_type": "code",
   "execution_count": null,
   "metadata": {},
   "outputs": [],
   "source": [
    "NAME = \"alex-1\"\n",
    "DEFAULT_BATCH_SIZE = 20\n",
    "TRAINING_BATCH_SIZE = DEFAULT_BATCH_SIZE\n",
    "VALIDATION_BATCH_SIZE = DEFAULT_BATCH_SIZE\n",
    "TESTING_BATCH_SIZE = DEFAULT_BATCH_SIZE\n",
    "TESTING_BATCH_COUNT = 51\n",
    "EPOCHS = 200\n",
    "LEARNING_RATE = 0.001\n",
    "IMAGE_CROP_SIZE = 224\n",
    "TRAINING_PLOT = True\n",
    "DROPOUT_P = 0.5\n",
    "CP_EVERY = 10\n",
    "\n",
    "f_tr_acc, f_tr_loss, f_val_acc, f_val_loss, f_te_acc, f_te_loss, f_ep_loss = -1, -1, -1, -1, -1, -1, -1"
   ]
  },
  {
   "attachments": {},
   "cell_type": "markdown",
   "metadata": {},
   "source": [
    "### Device"
   ]
  },
  {
   "cell_type": "code",
   "execution_count": null,
   "metadata": {},
   "outputs": [],
   "source": [
    "# Default to CPU\n",
    "DEVICE = torch.device(\"cpu\")\n",
    "\n",
    "# Switch to GPU if available\n",
    "if torch.cuda.is_available():\n",
    "\tprint(f\"Found {torch.cuda.device_count()} GPUs. Using cuda:0.\")\n",
    "\tDEVICE = torch.device(\"cuda:0\")\n",
    "else:\n",
    "\tprint(\"No GPUs found, using CPU.\")"
   ]
  },
  {
   "attachments": {},
   "cell_type": "markdown",
   "metadata": {},
   "source": [
    "### Load Dataset"
   ]
  },
  {
   "cell_type": "code",
   "execution_count": null,
   "metadata": {},
   "outputs": [],
   "source": [
    "training_data = datasets.Flowers102(\n",
    "    root = \"data\",\n",
    "    split = \"train\",\n",
    "    transform=transforms.Compose([\n",
    "        transforms.Resize(IMAGE_CROP_SIZE),\n",
    "        transforms.CenterCrop(IMAGE_CROP_SIZE),\n",
    "        transforms.RandomHorizontalFlip(),\n",
    "        transforms.RandomVerticalFlip(),\n",
    "        transforms.ToTensor()\n",
    "    ]),\n",
    "    download=True\n",
    ")\n",
    "\n",
    "validation_data = datasets.Flowers102(\n",
    "    root = \"data\",\n",
    "    split = \"val\",\n",
    "    transform=transforms.Compose([\n",
    "        transforms.Resize(IMAGE_CROP_SIZE),\n",
    "        transforms.CenterCrop(IMAGE_CROP_SIZE),\n",
    "        transforms.ToTensor()\n",
    "    ]),\n",
    "    download=True\n",
    ")\n",
    "\n",
    "testing_data = datasets.Flowers102(\n",
    "    root = \"data\",\n",
    "    split = \"test\",\n",
    "    transform=transforms.Compose([\n",
    "        transforms.Resize(IMAGE_CROP_SIZE),\n",
    "        transforms.CenterCrop(IMAGE_CROP_SIZE),\n",
    "        transforms.ToTensor()\n",
    "    ]),\n",
    "    download=True\n",
    ")"
   ]
  },
  {
   "attachments": {},
   "cell_type": "markdown",
   "metadata": {},
   "source": [
    "### DataLoaders"
   ]
  },
  {
   "cell_type": "code",
   "execution_count": null,
   "metadata": {},
   "outputs": [],
   "source": [
    "training_dataloader = DataLoader(training_data, batch_size=TRAINING_BATCH_SIZE, shuffle=True)\n",
    "validation_dataloader = DataLoader(validation_data, batch_size=VALIDATION_BATCH_SIZE, shuffle=True)\n",
    "testing_dataloader = DataLoader(testing_data, batch_size=TESTING_BATCH_SIZE, shuffle=True)"
   ]
  },
  {
   "attachments": {},
   "cell_type": "markdown",
   "metadata": {},
   "source": [
    "## Model"
   ]
  },
  {
   "cell_type": "code",
   "execution_count": null,
   "metadata": {},
   "outputs": [],
   "source": [
    "class F102Classifier(nn.Module):\n",
    "    \n",
    "\t#\"\"\"\n",
    "\tdef __init__(self):\n",
    "\t\tsuper(F102Classifier, self).__init__()\n",
    "\t\t\n",
    "\t\tself.conv1 = nn.Conv2d(3, 64, 11, 4, 2)\n",
    "\t\tself.relu2 = nn.ReLU(True)\n",
    "\t\tself.maxpool3 = nn.MaxPool2d(3, 2)\n",
    "\t\tself.conv4 = nn.Conv2d(64, 192, 5, 1, 2)\n",
    "\t\tself.relu5 = nn.ReLU(True)\n",
    "\t\tself.maxpool6 = nn.MaxPool2d(3, 2)\n",
    "\t\tself.conv7 = nn.Conv2d(192, 384, 3, 1, 1)\n",
    "\t\tself.relu8 = nn.ReLU(True)\n",
    "\t\tself.conv9 = nn.Conv2d(384, 256, 3, 1, 1)\n",
    "\t\tself.relu10 = nn.ReLU(True)\n",
    "\t\tself.conv11 = nn.Conv2d(256, 256, 3, 1, 1)\n",
    "\t\tself.relu12 = nn.ReLU(True)\n",
    "\t\tself.maxpool13 = nn.MaxPool2d(3, 2)\n",
    "\t\tself.avgpool14 = nn.AdaptiveAvgPool2d((6, 6))\n",
    "\t\tself.dropout15 = nn.Dropout(DROPOUT_P)\n",
    "\t\tself.fc16 = nn.Linear(9216, 4096)\n",
    "\t\tself.relu17 = nn.ReLU(True)\n",
    "\t\tself.dropout18 = nn.Dropout(DROPOUT_P)\n",
    "\t\tself.fc19 = nn.Linear(4096, 4096)\n",
    "\t\tself.relu20 = nn.ReLU(True)\n",
    "\t\tself.fc21 = nn.Linear(4096, 102)\n",
    "\n",
    "\tdef forward(self, x):\n",
    "\t\tx = self.conv1(x)\n",
    "\t\tx = self.relu2(x)\n",
    "\t\tx = self.maxpool3(x)\n",
    "\t\tx = self.conv4(x)\n",
    "\t\tx = self.relu5(x)\n",
    "\t\tx = self.maxpool6(x)\n",
    "\t\tx = self.conv7(x)\n",
    "\t\tx = self.relu8(x)\n",
    "\t\tx = self.conv9(x)\n",
    "\t\tx = self.relu10(x)\n",
    "\t\tx = self.conv11(x)\n",
    "\t\tx = self.relu12(x)\n",
    "\t\tx = self.maxpool13(x)\n",
    "\t\tx = self.avgpool14(x)\n",
    "\t\tx = self.dropout15(x)\n",
    "\t\tx = torch.flatten(x, 1)\n",
    "\t\tx = self.fc16(x)\n",
    "\t\tx = self.relu17(x)\n",
    "\t\tx = self.dropout18(x)\n",
    "\t\tx = self.fc19(x)\n",
    "\t\tx = self.relu20(x)\n",
    "\t\tx = self.fc21(x)\n",
    "\n",
    "\t\treturn x\n",
    "\t#\"\"\"\n",
    "\n",
    "\t\"\"\"\n",
    "\tdef __init__(self):\n",
    "\t\tsuper(F102Classifier, self).__init__()\n",
    "\t\t\n",
    "\t\tself.pool = nn.AvgPool2d(2, 2)\n",
    "\t\tself.conv1 = nn.Conv2d(3, 6, 3)\n",
    "\t\tself.conv2 = nn.Conv2d(6, 12, 3)\n",
    "\t\tself.conv3 = nn.Conv2d(12, 24, 3)\n",
    "\t\tself.conv4 = nn.Conv2d(24, 48, 3)\n",
    "\t\tself.conv5 = nn.Conv2d(48, 96, 3)\n",
    "\t\tself.fc1 = nn.Linear(2400, 1024)\n",
    "\t\tself.fc2 = nn.Linear(1024, 512)\n",
    "\t\tself.fc3 = nn.Linear(512, 102)\t\t\n",
    "\n",
    "\tdef forward(self, x):\n",
    "\t\tx = self.pool(F.relu(self.conv1(x)))\n",
    "\t\tx = self.pool(F.relu(self.conv2(x)))\n",
    "\t\tx = self.pool(F.relu(self.conv3(x)))\n",
    "\t\tx = self.pool(F.relu(self.conv4(x)))\n",
    "\t\tx = self.pool(F.relu(self.conv5(x)))\n",
    "\t\t#print(\"after conv5: \", x.size())\n",
    "\t\tx = torch.flatten(x)\n",
    "\t\t#print(\"after flatten: \", x.size())\n",
    "\t\tx = x.view(DEFAULT_BATCH_SIZE, -1)\n",
    "\t\t#print(\"after view: \", x.size())\n",
    "\t\tx = F.relu(self.fc1(x))\n",
    "\t\t#print(\"after fc1: \", x.size())\n",
    "\t\tx = F.relu(self.fc2(x))\n",
    "\t\t#print(\"after fc2: \", x.size())\n",
    "\t\tx = self.fc3(x)\n",
    "\t\t#print(\"after fc3: \", x.size())\n",
    "\t\t#print(x)\n",
    "\t\t#print(x.size())\n",
    "\t\treturn x\n",
    "\t\"\"\"\n",
    "\n",
    "net = F102Classifier()\n",
    "net = net.to(DEVICE)"
   ]
  },
  {
   "attachments": {},
   "cell_type": "markdown",
   "metadata": {},
   "source": [
    "### Loss Function & Optimiser"
   ]
  },
  {
   "cell_type": "code",
   "execution_count": null,
   "metadata": {},
   "outputs": [],
   "source": [
    "loss_function = nn.CrossEntropyLoss().to(DEVICE)\n",
    "optimiser = optim.Adam(net.parameters(), lr=LEARNING_RATE)\n",
    "#optimiser = optim.SGD(net.parameters(), lr=LEARNING_RATE, momentum=0.9, weight_decay=0.005)"
   ]
  },
  {
   "attachments": {},
   "cell_type": "markdown",
   "metadata": {},
   "source": [
    "## Validation, Testing, Training Functions"
   ]
  },
  {
   "attachments": {},
   "cell_type": "markdown",
   "metadata": {},
   "source": [
    "### Validation, Testing Functions"
   ]
  },
  {
   "cell_type": "code",
   "execution_count": null,
   "metadata": {},
   "outputs": [],
   "source": [
    "def validate(model:F102Classifier=net, dataloader:DataLoader=validation_dataloader, loss_fn=loss_function, batches=TESTING_BATCH_COUNT, print_type=\"Validation\"):\n",
    "    model.eval()\n",
    "    test_loss, correct = 0, 0\n",
    "    for batch, (inputs, labels) in enumerate(dataloader):\n",
    "        if batch == batches:\n",
    "            break\n",
    "        inputs, labels = inputs.to(DEVICE), labels.to(DEVICE)\n",
    "        output = model(inputs)\n",
    "        test_loss += loss_fn(output, labels).item()\n",
    "        pred = torch.tensor([torch.argmax(o)+1 for o in output]).to(DEVICE)\n",
    "        correct += pred.eq(labels.view_as(pred)).sum().item()\n",
    "    test_loss /= batches\n",
    "    correct /= batches\n",
    "    print(f\"{print_type} Accuracy: {correct*100:.1f}%\\nMean Loss for {print_type}: {test_loss:.3f}\")\n",
    "    if print_type == \"Validation\":\n",
    "        global f_val_acc, f_val_loss\n",
    "        f_val_acc, f_val_loss = correct, test_loss\n",
    "    elif print_type == \"Training\":\n",
    "        global f_tr_acc, f_tr_loss\n",
    "        f_tr_acc, f_tr_loss = correct, test_loss\n",
    "    elif print_type == \"Testing\":\n",
    "        global f_te_acc, f_te_loss\n",
    "        f_te_acc, f_te_loss = correct, test_loss\n",
    "    return test_loss, correct\n",
    "\n",
    "def test(model:F102Classifier=net, dataloader:DataLoader=testing_dataloader, loss_fn=loss_function, batches=TESTING_BATCH_COUNT, print_type=\"Testing\"):\n",
    "    return validate(dataloader=dataloader, batches=TESTING_BATCH_COUNT, print_type=print_type)"
   ]
  },
  {
   "attachments": {},
   "cell_type": "markdown",
   "metadata": {},
   "source": [
    "### Training Function"
   ]
  },
  {
   "cell_type": "code",
   "execution_count": null,
   "metadata": {},
   "outputs": [],
   "source": [
    "def train(model:F102Classifier=net, dataloader:DataLoader=training_dataloader, loss_fn=loss_function, optimiser=optimiser, epochs:int=EPOCHS, validate_every:int=1, training_fit_every:int=5, checkpoint_every:int=CP_EVERY, plot:bool=TRAINING_PLOT):\n",
    "\tprint(\"Started Training\")\n",
    "\tmodel.train()\n",
    "\tepoch_loss = 0\n",
    "\tloss_record = list([0])\n",
    "\tvalidation_accuracy_record = list([(0,0)])\n",
    "\ttraining_accuracy_record = list([(0,0)])\n",
    "\tvalidation_loss_record = list([(0,0)])\n",
    "\ttraining_fit_loss_record = list([(0,0)])\n",
    "\tfor i in range(0, epochs):\n",
    "\t\tmodel.train()\n",
    "\t\tfor batch, (inputs, labels) in enumerate(dataloader):\n",
    "\t\t\tinputs, labels = inputs.to(DEVICE), labels.to(DEVICE)\n",
    "\n",
    "\t\t\toutputs = model(inputs)\n",
    "\t\t\t\n",
    "\t\t\t# LOSS\n",
    "\t\t\tloss = loss_fn(outputs, labels)\n",
    "\t\t\tepoch_loss += loss.item()\n",
    "\n",
    "\t\t\t# BACKPROP\n",
    "\t\t\t#optimiser.zero_grad()\n",
    "\t\t\t#loss.backward()\n",
    "\t\t\tloss.backward()\n",
    "\t\t\toptimiser.step()\n",
    "\n",
    "\t\t\tif (batch % len(dataloader) == 0):\n",
    "\t\t\t\tclear_output(wait=True)\n",
    "\n",
    "\t\t\t\tif ((i + 1) % validate_every == 0):\n",
    "\t\t\t\t\ttest_loss, accuracy = validate()\n",
    "\t\t\t\t\tvalidation_accuracy_record.append((i+1,accuracy*100))\n",
    "\t\t\t\t\tvalidation_loss_record.append((i+1,test_loss))\n",
    "\n",
    "\t\t\t\tif ((i + 1) % training_fit_every == 0):\n",
    "\t\t\t\t\ttest_loss, accuracy = validate(dataloader=training_dataloader, print_type=\"Training\")\n",
    "\t\t\t\t\ttraining_accuracy_record.append((i+1,accuracy*100))\n",
    "\t\t\t\t\ttraining_fit_loss_record.append((i+1,test_loss))\n",
    "\n",
    "\t\t\t\tepoch_loss = epoch_loss/len(dataloader)\n",
    "\t\t\t\tloss_record.append(epoch_loss)\n",
    "\t\t\t\t#status = f\"Epoch: {i+1}/{epochs}\\nBatch: {batch+1}/{len(dataloader)}\\nMean Loss for Epoch: {epoch_loss:.4f}\"\n",
    "\t\t\t\tstatus = f\"Epoch: {i+1}/{epochs}\\nMean Loss for Epoch: {epoch_loss:.4f}\"\n",
    "\t\t\t\tepoch_loss = 0.0\n",
    "\t\t\t\tprint(status)\n",
    "\n",
    "\t\t\t\tif ((i + 1) % checkpoint_every == 0):\n",
    "\t\t\t\t\tif not os.path.exists(\"./models\"):\n",
    "\t\t\t\t\t\tos.makedirs(\"./models\")\n",
    "\t\t\t\t\tif not os.path.exists(f\"./models/{NAME}\"):\n",
    "\t\t\t\t\t\tos.makedirs(f\"./models/{NAME}\")\n",
    "\t\t\t\t\ttorch.save(net.state_dict(), f\"./models/{NAME}/{NAME}-cp{i+1}.pth\")\n",
    "\t\t\t\t\tprint(f\"Checkpoint {i+1} saved at ./models/{NAME}/{NAME}-cp{i+1}.pth\")\n",
    "\n",
    "\t\t\t\tif plot:\n",
    "\t\t\t\t\tfig, ax1 = plt.subplots()\n",
    "\t\t\t\t\t# Primary Y axis for loss\n",
    "\t\t\t\t\tax1.plot(loss_record, color='limegreen', label='Epoch Loss')\n",
    "\t\t\t\t\tax1.plot([e[0] for e in validation_loss_record], [a[1] for a in validation_loss_record], color='orange', label='Validation Set Loss')\n",
    "\t\t\t\t\tax1.plot([e[0] for e in training_fit_loss_record], [a[1] for a in training_fit_loss_record], color='blue', label='Training Set Loss')\n",
    "\t\t\t\t\tplt.xlabel('Mean Loss for Epoch')\n",
    "\t\t\t\t\tplt.ylabel('Loss')\n",
    "\t\t\t\t\tplt.text(0, -0.1, status, ha='left', va='top', transform=plt.gca().transAxes)\n",
    "\t\t\t\t\tplt.gca().xaxis.set_major_locator(plt.MaxNLocator(integer=True))\n",
    "\t\t\t\t\tplt.gca().set_xlim(left=1)\n",
    "\t\t\t\t\tplt.gca().set_ylim(bottom=0)\n",
    "\t\t\t\t\tplt.gca().set_ylim(top=max(loss_record)*1.1)\n",
    "\t\t\t\t\t# Secondary Y axis for accuracy\n",
    "\t\t\t\t\tax2 = ax1.twinx()\n",
    "\t\t\t\t\tax2.plot([e[0] for e in validation_accuracy_record], [a[1] for a in validation_accuracy_record], color='sandybrown', label='Validation Set Accuracy (%)')\n",
    "\t\t\t\t\tax2.plot([e[0] for e in training_accuracy_record], [a[1] for a in training_accuracy_record], color='slateblue', label='Training Set Accuracy (%)')\n",
    "\t\t\t\t\tplt.ylabel('Accuracy (%)')\n",
    "\t\t\t\t\tplt.gca().set_ylim(bottom=0)\n",
    "\t\t\t\t\tplt.gca().set_ylim(top=100)\n",
    "\t\t\t\t\tplt.gca().set_xlim(left=1)\n",
    "\t\t\t\t\tplt.gca().xaxis.set_major_locator(plt.MaxNLocator(integer=True))\n",
    "\t\t\t\t\t# Legend\n",
    "\t\t\t\t\tli1, la1 = ax1.get_legend_handles_labels()\n",
    "\t\t\t\t\tli2, la2 = ax2.get_legend_handles_labels()\n",
    "\t\t\t\t\tlis, las = li1+li2, la1+la2\n",
    "\t\t\t\t\tplt.legend(lis, las)\n",
    "\t\t\t\t\tplt.grid(which='both')\n",
    "\t\t\t\t\tplt.show()\n",
    "\t\n",
    "\tprint(\"Finished Training\")\n",
    "\tglobal f_ep_loss\n",
    "\tf_ep_loss = loss_record[-1]\n",
    "\treturn loss_record, validation_accuracy_record\n"
   ]
  },
  {
   "attachments": {},
   "cell_type": "markdown",
   "metadata": {},
   "source": [
    "# Run Model"
   ]
  },
  {
   "cell_type": "code",
   "execution_count": 20,
   "metadata": {},
   "outputs": [
    {
     "ename": "KeyboardInterrupt",
     "evalue": "",
     "output_type": "error",
     "traceback": [
      "\u001b[1;31m---------------------------------------------------------------------------\u001b[0m",
      "\u001b[1;31mKeyboardInterrupt\u001b[0m                         Traceback (most recent call last)",
      "Cell \u001b[1;32mIn[20], line 1\u001b[0m\n\u001b[1;32m----> 1\u001b[0m train()\n",
      "Cell \u001b[1;32mIn[19], line 12\u001b[0m, in \u001b[0;36mtrain\u001b[1;34m(model, dataloader, loss_fn, optimiser, epochs, validate_every, training_fit_every, checkpoint_every, plot)\u001b[0m\n\u001b[0;32m     10\u001b[0m \u001b[39mfor\u001b[39;00m i \u001b[39min\u001b[39;00m \u001b[39mrange\u001b[39m(\u001b[39m0\u001b[39m, epochs):\n\u001b[0;32m     11\u001b[0m \tmodel\u001b[39m.\u001b[39mtrain()\n\u001b[1;32m---> 12\u001b[0m \t\u001b[39mfor\u001b[39;00m batch, (inputs, labels) \u001b[39min\u001b[39;00m \u001b[39menumerate\u001b[39m(dataloader):\n\u001b[0;32m     13\u001b[0m \t\tinputs, labels \u001b[39m=\u001b[39m inputs\u001b[39m.\u001b[39mto(DEVICE), labels\u001b[39m.\u001b[39mto(DEVICE)\n\u001b[0;32m     15\u001b[0m \t\toutputs \u001b[39m=\u001b[39m model(inputs)\n",
      "File \u001b[1;32md:\\GitHub\\Nine\\.venv\\Lib\\site-packages\\torch\\utils\\data\\dataloader.py:634\u001b[0m, in \u001b[0;36m_BaseDataLoaderIter.__next__\u001b[1;34m(self)\u001b[0m\n\u001b[0;32m    631\u001b[0m \u001b[39mif\u001b[39;00m \u001b[39mself\u001b[39m\u001b[39m.\u001b[39m_sampler_iter \u001b[39mis\u001b[39;00m \u001b[39mNone\u001b[39;00m:\n\u001b[0;32m    632\u001b[0m     \u001b[39m# TODO(https://github.com/pytorch/pytorch/issues/76750)\u001b[39;00m\n\u001b[0;32m    633\u001b[0m     \u001b[39mself\u001b[39m\u001b[39m.\u001b[39m_reset()  \u001b[39m# type: ignore[call-arg]\u001b[39;00m\n\u001b[1;32m--> 634\u001b[0m data \u001b[39m=\u001b[39m \u001b[39mself\u001b[39;49m\u001b[39m.\u001b[39;49m_next_data()\n\u001b[0;32m    635\u001b[0m \u001b[39mself\u001b[39m\u001b[39m.\u001b[39m_num_yielded \u001b[39m+\u001b[39m\u001b[39m=\u001b[39m \u001b[39m1\u001b[39m\n\u001b[0;32m    636\u001b[0m \u001b[39mif\u001b[39;00m \u001b[39mself\u001b[39m\u001b[39m.\u001b[39m_dataset_kind \u001b[39m==\u001b[39m _DatasetKind\u001b[39m.\u001b[39mIterable \u001b[39mand\u001b[39;00m \\\n\u001b[0;32m    637\u001b[0m         \u001b[39mself\u001b[39m\u001b[39m.\u001b[39m_IterableDataset_len_called \u001b[39mis\u001b[39;00m \u001b[39mnot\u001b[39;00m \u001b[39mNone\u001b[39;00m \u001b[39mand\u001b[39;00m \\\n\u001b[0;32m    638\u001b[0m         \u001b[39mself\u001b[39m\u001b[39m.\u001b[39m_num_yielded \u001b[39m>\u001b[39m \u001b[39mself\u001b[39m\u001b[39m.\u001b[39m_IterableDataset_len_called:\n",
      "File \u001b[1;32md:\\GitHub\\Nine\\.venv\\Lib\\site-packages\\torch\\utils\\data\\dataloader.py:678\u001b[0m, in \u001b[0;36m_SingleProcessDataLoaderIter._next_data\u001b[1;34m(self)\u001b[0m\n\u001b[0;32m    676\u001b[0m \u001b[39mdef\u001b[39;00m \u001b[39m_next_data\u001b[39m(\u001b[39mself\u001b[39m):\n\u001b[0;32m    677\u001b[0m     index \u001b[39m=\u001b[39m \u001b[39mself\u001b[39m\u001b[39m.\u001b[39m_next_index()  \u001b[39m# may raise StopIteration\u001b[39;00m\n\u001b[1;32m--> 678\u001b[0m     data \u001b[39m=\u001b[39m \u001b[39mself\u001b[39;49m\u001b[39m.\u001b[39;49m_dataset_fetcher\u001b[39m.\u001b[39;49mfetch(index)  \u001b[39m# may raise StopIteration\u001b[39;00m\n\u001b[0;32m    679\u001b[0m     \u001b[39mif\u001b[39;00m \u001b[39mself\u001b[39m\u001b[39m.\u001b[39m_pin_memory:\n\u001b[0;32m    680\u001b[0m         data \u001b[39m=\u001b[39m _utils\u001b[39m.\u001b[39mpin_memory\u001b[39m.\u001b[39mpin_memory(data, \u001b[39mself\u001b[39m\u001b[39m.\u001b[39m_pin_memory_device)\n",
      "File \u001b[1;32md:\\GitHub\\Nine\\.venv\\Lib\\site-packages\\torch\\utils\\data\\_utils\\fetch.py:51\u001b[0m, in \u001b[0;36m_MapDatasetFetcher.fetch\u001b[1;34m(self, possibly_batched_index)\u001b[0m\n\u001b[0;32m     49\u001b[0m         data \u001b[39m=\u001b[39m \u001b[39mself\u001b[39m\u001b[39m.\u001b[39mdataset\u001b[39m.\u001b[39m__getitems__(possibly_batched_index)\n\u001b[0;32m     50\u001b[0m     \u001b[39melse\u001b[39;00m:\n\u001b[1;32m---> 51\u001b[0m         data \u001b[39m=\u001b[39m [\u001b[39mself\u001b[39;49m\u001b[39m.\u001b[39;49mdataset[idx] \u001b[39mfor\u001b[39;49;00m idx \u001b[39min\u001b[39;49;00m possibly_batched_index]\n\u001b[0;32m     52\u001b[0m \u001b[39melse\u001b[39;00m:\n\u001b[0;32m     53\u001b[0m     data \u001b[39m=\u001b[39m \u001b[39mself\u001b[39m\u001b[39m.\u001b[39mdataset[possibly_batched_index]\n",
      "File \u001b[1;32md:\\GitHub\\Nine\\.venv\\Lib\\site-packages\\torch\\utils\\data\\_utils\\fetch.py:51\u001b[0m, in \u001b[0;36m<listcomp>\u001b[1;34m(.0)\u001b[0m\n\u001b[0;32m     49\u001b[0m         data \u001b[39m=\u001b[39m \u001b[39mself\u001b[39m\u001b[39m.\u001b[39mdataset\u001b[39m.\u001b[39m__getitems__(possibly_batched_index)\n\u001b[0;32m     50\u001b[0m     \u001b[39melse\u001b[39;00m:\n\u001b[1;32m---> 51\u001b[0m         data \u001b[39m=\u001b[39m [\u001b[39mself\u001b[39;49m\u001b[39m.\u001b[39;49mdataset[idx] \u001b[39mfor\u001b[39;00m idx \u001b[39min\u001b[39;00m possibly_batched_index]\n\u001b[0;32m     52\u001b[0m \u001b[39melse\u001b[39;00m:\n\u001b[0;32m     53\u001b[0m     data \u001b[39m=\u001b[39m \u001b[39mself\u001b[39m\u001b[39m.\u001b[39mdataset[possibly_batched_index]\n",
      "File \u001b[1;32md:\\GitHub\\Nine\\.venv\\Lib\\site-packages\\torchvision\\datasets\\flowers102.py:81\u001b[0m, in \u001b[0;36mFlowers102.__getitem__\u001b[1;34m(self, idx)\u001b[0m\n\u001b[0;32m     79\u001b[0m \u001b[39mdef\u001b[39;00m \u001b[39m__getitem__\u001b[39m(\u001b[39mself\u001b[39m, idx: \u001b[39mint\u001b[39m) \u001b[39m-\u001b[39m\u001b[39m>\u001b[39m Tuple[Any, Any]:\n\u001b[0;32m     80\u001b[0m     image_file, label \u001b[39m=\u001b[39m \u001b[39mself\u001b[39m\u001b[39m.\u001b[39m_image_files[idx], \u001b[39mself\u001b[39m\u001b[39m.\u001b[39m_labels[idx]\n\u001b[1;32m---> 81\u001b[0m     image \u001b[39m=\u001b[39m PIL\u001b[39m.\u001b[39;49mImage\u001b[39m.\u001b[39;49mopen(image_file)\u001b[39m.\u001b[39;49mconvert(\u001b[39m\"\u001b[39;49m\u001b[39mRGB\u001b[39;49m\u001b[39m\"\u001b[39;49m)\n\u001b[0;32m     83\u001b[0m     \u001b[39mif\u001b[39;00m \u001b[39mself\u001b[39m\u001b[39m.\u001b[39mtransform:\n\u001b[0;32m     84\u001b[0m         image \u001b[39m=\u001b[39m \u001b[39mself\u001b[39m\u001b[39m.\u001b[39mtransform(image)\n",
      "File \u001b[1;32md:\\GitHub\\Nine\\.venv\\Lib\\site-packages\\PIL\\Image.py:933\u001b[0m, in \u001b[0;36mImage.convert\u001b[1;34m(self, mode, matrix, dither, palette, colors)\u001b[0m\n\u001b[0;32m    885\u001b[0m \u001b[39mdef\u001b[39;00m \u001b[39mconvert\u001b[39m(\n\u001b[0;32m    886\u001b[0m     \u001b[39mself\u001b[39m, mode\u001b[39m=\u001b[39m\u001b[39mNone\u001b[39;00m, matrix\u001b[39m=\u001b[39m\u001b[39mNone\u001b[39;00m, dither\u001b[39m=\u001b[39m\u001b[39mNone\u001b[39;00m, palette\u001b[39m=\u001b[39mPalette\u001b[39m.\u001b[39mWEB, colors\u001b[39m=\u001b[39m\u001b[39m256\u001b[39m\n\u001b[0;32m    887\u001b[0m ):\n\u001b[0;32m    888\u001b[0m \u001b[39m    \u001b[39m\u001b[39m\"\"\"\u001b[39;00m\n\u001b[0;32m    889\u001b[0m \u001b[39m    Returns a converted copy of this image. For the \"P\" mode, this\u001b[39;00m\n\u001b[0;32m    890\u001b[0m \u001b[39m    method translates pixels through the palette.  If mode is\u001b[39;00m\n\u001b[1;32m   (...)\u001b[0m\n\u001b[0;32m    930\u001b[0m \u001b[39m    :returns: An :py:class:`~PIL.Image.Image` object.\u001b[39;00m\n\u001b[0;32m    931\u001b[0m \u001b[39m    \"\"\"\u001b[39;00m\n\u001b[1;32m--> 933\u001b[0m     \u001b[39mself\u001b[39;49m\u001b[39m.\u001b[39;49mload()\n\u001b[0;32m    935\u001b[0m     has_transparency \u001b[39m=\u001b[39m \u001b[39mself\u001b[39m\u001b[39m.\u001b[39minfo\u001b[39m.\u001b[39mget(\u001b[39m\"\u001b[39m\u001b[39mtransparency\u001b[39m\u001b[39m\"\u001b[39m) \u001b[39mis\u001b[39;00m \u001b[39mnot\u001b[39;00m \u001b[39mNone\u001b[39;00m\n\u001b[0;32m    936\u001b[0m     \u001b[39mif\u001b[39;00m \u001b[39mnot\u001b[39;00m mode \u001b[39mand\u001b[39;00m \u001b[39mself\u001b[39m\u001b[39m.\u001b[39mmode \u001b[39m==\u001b[39m \u001b[39m\"\u001b[39m\u001b[39mP\u001b[39m\u001b[39m\"\u001b[39m:\n\u001b[0;32m    937\u001b[0m         \u001b[39m# determine default mode\u001b[39;00m\n",
      "File \u001b[1;32md:\\GitHub\\Nine\\.venv\\Lib\\site-packages\\PIL\\ImageFile.py:269\u001b[0m, in \u001b[0;36mImageFile.load\u001b[1;34m(self)\u001b[0m\n\u001b[0;32m    266\u001b[0m         \u001b[39mraise\u001b[39;00m \u001b[39mOSError\u001b[39;00m(msg)\n\u001b[0;32m    268\u001b[0m b \u001b[39m=\u001b[39m b \u001b[39m+\u001b[39m s\n\u001b[1;32m--> 269\u001b[0m n, err_code \u001b[39m=\u001b[39m decoder\u001b[39m.\u001b[39;49mdecode(b)\n\u001b[0;32m    270\u001b[0m \u001b[39mif\u001b[39;00m n \u001b[39m<\u001b[39m \u001b[39m0\u001b[39m:\n\u001b[0;32m    271\u001b[0m     \u001b[39mbreak\u001b[39;00m\n",
      "\u001b[1;31mKeyboardInterrupt\u001b[0m: "
     ]
    }
   ],
   "source": [
    "train()"
   ]
  },
  {
   "attachments": {},
   "cell_type": "markdown",
   "metadata": {},
   "source": [
    "# Test Model"
   ]
  },
  {
   "cell_type": "code",
   "execution_count": null,
   "metadata": {},
   "outputs": [],
   "source": [
    "test(batches=(len(testing_dataloader)))"
   ]
  },
  {
   "attachments": {},
   "cell_type": "markdown",
   "metadata": {},
   "source": [
    "### Save Model"
   ]
  },
  {
   "cell_type": "code",
   "execution_count": null,
   "metadata": {},
   "outputs": [],
   "source": [
    "COMMENT = \"AlexNet-like architecture\""
   ]
  },
  {
   "cell_type": "code",
   "execution_count": null,
   "metadata": {},
   "outputs": [],
   "source": [
    "if not os.path.exists(\"./models\"):\n",
    "\tos.makedirs(\"./models\")\n",
    "if not os.path.exists(f\"./models/{NAME}\"):\n",
    "\tos.makedirs(f\"./models/{NAME}\")\n",
    "\t\n",
    "torch.save(net.state_dict(), f\"./models/{NAME}/{NAME}.pth\")\n",
    "\n",
    "register = json.load(open(\"./models/_register.json\"))\n",
    "for i in register:\n",
    "\tif i[\"name\"] == NAME:\n",
    "\t\tregister.remove(i)\n",
    "\t\tbreak\n",
    "register.append({\n",
    "\t\"name\": NAME,\n",
    "\t\"comment\": COMMENT,\n",
    "\t\"batch_size\": DEFAULT_BATCH_SIZE,\n",
    "\t\"epochs\": EPOCHS,\n",
    "\t\"learning_rate\": LEARNING_RATE,\n",
    "\t\"image_crop_size\": IMAGE_CROP_SIZE,\n",
    "\t\"dropout_p\": DROPOUT_P,\n",
    "\t\"final_training_accuracy\": f_tr_acc,\n",
    "\t\"final_training_loss\": f_tr_loss,\n",
    "\t\"final_validation_accuracy\": f_val_acc,\n",
    "\t\"final_validation_loss\": f_val_loss,\n",
    "\t\"final_testing_accuracy\": f_te_acc,\n",
    "\t\"final_testing_loss\": f_te_loss,\n",
    "\t\"final_epoch_loss\": f_ep_loss\n",
    "})\n",
    "json.dump(register, open(\"./models/_register.json\", \"w\"), indent=\"\\t\")\n",
    "\n",
    "print(f\"Model saved at ./models/{NAME}/{NAME}.pth, registered as {NAME}\")"
   ]
  }
 ],
 "metadata": {
  "kernelspec": {
   "display_name": ".venv",
   "language": "python",
   "name": "python3"
  },
  "language_info": {
   "codemirror_mode": {
    "name": "ipython",
    "version": 3
   },
   "file_extension": ".py",
   "mimetype": "text/x-python",
   "name": "python",
   "nbconvert_exporter": "python",
   "pygments_lexer": "ipython3",
   "version": "3.11.3"
  },
  "orig_nbformat": 4
 },
 "nbformat": 4,
 "nbformat_minor": 2
}
